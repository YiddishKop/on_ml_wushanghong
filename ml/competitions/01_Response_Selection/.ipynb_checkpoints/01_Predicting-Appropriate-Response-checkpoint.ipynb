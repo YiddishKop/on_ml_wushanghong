{
 "cells": [
  {
   "cell_type": "markdown",
   "metadata": {},
   "source": [
    "# <center>DataLab Cup 1: Predicting Appropriate Response<center>\n",
    "<center>Shan-Hung Wu &amp; DataLab<br>Fall 2017</center>"
   ]
  },
  {
   "cell_type": "code",
   "execution_count": 1,
   "metadata": {
    "collapsed": true
   },
   "outputs": [],
   "source": [
    "%matplotlib inline"
   ]
  },
  {
   "cell_type": "markdown",
   "metadata": {},
   "source": [
    "# Competition Info"
   ]
  },
  {
   "cell_type": "markdown",
   "metadata": {
    "collapsed": true
   },
   "source": [
    "In this competition, you have to **select the most appropriate response from 6 candidates** based on previous chat message. You are provided with lines of total 8 tv programs as training data, and each program has serveral episodes. You also get a question collection which contains **1 chat history and 6 condidate responses** for each question. Your goal is to learn a function that is able to predict the best response.\n",
    "<img src='illustration.png' width='25%'/>"
   ]
  },
  {
   "cell_type": "markdown",
   "metadata": {},
   "source": [
    "### Dataset Format\n",
    "+ ```Program01.csv~Program08.csv``` contains total 8 tv program's lines\n",
    "+ ```Question.csv``` contains total 500 questions, and each question includes chat and candidate options."
   ]
  },
  {
   "cell_type": "markdown",
   "metadata": {},
   "source": [
    "### How to Submit Results? \n",
    "You have to predict the correct response in ```Question.csv```, and **submit it to the Kaggle-In-Class** online judge system. Following are some example actions:"
   ]
  },
  {
   "cell_type": "markdown",
   "metadata": {},
   "source": [
    "| Action | Description |\n",
    "| - | - |\n",
    "| Data | Get the dataset. |\n",
    "| Make a Submission | Your testing performance will be evaluated immediately and shown on the leaderboard. |\n",
    "| Leaderboard | The current ranking of participants. Note that this ranking only reflects the performance on part of the testset and may not equal to the final ranking (see below). |\n",
    "| Forum | You can ask questions or share findings here. |\n",
    "| Kernels | You can create your jupyter notebook, run it, and keep it as private or public here. |"
   ]
  },
  {
   "cell_type": "markdown",
   "metadata": {},
   "source": [
    "### Scoring\n",
    "The evaluation metric is **CategorizationAccuracy**. The ranking shown on the leaderboard before the end of competition reflects only the accuracy over **part of** ```Question.csv```. However, this is **not** how we evaluate your final scores. After the competition, we combine **accuracy over the entire ```Question.csv```** and **your report** as the final score.\n",
    "<br>\n",
    "<br>\n",
    "There will be two baseline results, namely, ```Benchmark-60``` and ```Benchmark-80```. You have to outperform ```Benchmark-60``` to get 60 points, and ```Benchmark-80``` to get 80. Meanwhile, **the higher accuracy you achieve, the higher the final score you will get**."
   ]
  },
  {
   "cell_type": "markdown",
   "metadata": {},
   "source": [
    "### Important Dates\n",
    "+ 2017/10/24 (TUE) - competition starts\n",
    "+ 2017/10/29 (SUN) 23:59pm - competition ends, final score announcement\n",
    "+ 2017/10/31 (TUE) - winner team share\n",
    "+ 2017/11/2 (THU) 23:59pm - report submission (iLMS);"
   ]
  },
  {
   "cell_type": "markdown",
   "metadata": {},
   "source": [
    "### Report\n",
    "After the competition, **each team have to hand in a report** in Jupyter notebook format via the iLMS system. You report should include:\n",
    "+ Student ID, name of each team member\n",
    "+ How did you preprocess data (cleaning, feature engineering, etc.)?\n",
    "+ How did you build the classifier (model, training algorithm, special techniques, etc.)?\n",
    "+ Conclusions (interesting findings, pitfalls, takeaway lessons, etc.)?\n",
    "\n",
    "The file name of your report must be ```DL_comp1_{Your Team number}_report.ipynb```."
   ]
  },
  {
   "cell_type": "markdown",
   "metadata": {},
   "source": [
    "# Hint 1: Feature Engineering is More Important Then You Expected"
   ]
  },
  {
   "cell_type": "markdown",
   "metadata": {},
   "source": [
    "So far, we learn various machine learning techniques based on datasets where the date features are predefined. In many real-world applications, including this competition, we only get raw data and have to define the features ourself. **Feature engineering** is the process of using domain knowledge to create features that make machine learning algorithms work. While good modeling and training techniques help you make better predictions, feature engineering usually determines whether your task is \"learnable\"."
   ]
  },
  {
   "cell_type": "code",
   "execution_count": 2,
   "metadata": {},
   "outputs": [
    {
     "name": "stdout",
     "output_type": "stream",
     "text": [
      "Program 1\n",
      "Episodes: 1299\n",
      "Index(['Content'], dtype='object')\n",
      "\n",
      "0    還好天氣不錯\\n昨天晚上的流星雨\\n我看到很多流星\\n這次的收穫真豐富\\n當然豐富啦\\n我就...\n",
      "1    好熱喔\\n這種倉庫很不通風\\n好熱喔\\n受不了\\n今天天氣真的是太熱了\\n我都快中暑了\\n那...\n",
      "Name: Content, dtype: object\n",
      "\n",
      "Program 2\n",
      "Episodes: 205\n",
      "Index(['Content'], dtype='object')\n",
      "\n",
      "0    我們現在只差兩分\\n只差兩分\\n等下阿偉先站過來\\n他們會埋伏一個射手出來\\n我們盡量把他堵...\n",
      "1    四十年前\\n我媽為了養我跟我哥\\n開這間理髮店\\n她把手藝都傳給哥\\n希望他可以接下這間店\\...\n",
      "Name: Content, dtype: object\n",
      "\n",
      "Program 3\n",
      "Episodes: 57\n",
      "Index(['Content'], dtype='object')\n",
      "\n",
      "0    台南人劇團\\n一個從古都台南輸出的\\n現代劇團\\n每年總有令人驚奇的戲劇產生\\n玩大師\\n莎...\n",
      "1    一齣舞台劇\\n這個舞台劇的結果\\n所有觀眾都知道\\n兩個演員在舞台上\\n撐了一百多分鐘\\n目...\n",
      "Name: Content, dtype: object\n",
      "\n",
      "Program 4\n",
      "Episodes: 10\n",
      "Index(['Content'], dtype='object')\n",
      "\n",
      "0    念書幹嘛偷光\\n燈一開就有了啊\\n太陽是不是從樹葉之間的\\n這個縫灑下來\\n然後在地上啊\\n...\n",
      "1    倫語社\\n效果立竿見影\\n立竿見影\\n這也是指很快囉\\n但是它和曇花一現\\n有什麼不一樣\\n...\n",
      "Name: Content, dtype: object\n",
      "\n",
      "Program 5\n",
      "Episodes: 369\n",
      "Index(['Content'], dtype='object')\n",
      "\n",
      "0    公平的對待\\n孩子才會樂於做良性的競爭\\n這樣一來\\n真正有實力的人才不會被埋沒\\n老師好\\...\n",
      "1    你們看\\n我臉上的痘痘\\n畫了粧之後就沒那麼明顯了\\n就算熬夜K書\\n長了黑眼圈也不怕\\n你...\n",
      "Name: Content, dtype: object\n",
      "\n",
      "Program 6\n",
      "Episodes: 80\n",
      "Index(['Content'], dtype='object')\n",
      "\n",
      "0    在這個世上\\n既能解放你滿肚子壓力\\n又讓你避之唯恐不及的\\n只有馬桶\\n但是如果你到現在還...\n",
      "1    你相信嗎\\n全球十大致人於死的動物榜首是誰\\n獅子嗎\\n不是\\n鱷魚嗎\\nNo\\n答案竟然是...\n",
      "Name: Content, dtype: object\n",
      "\n",
      "Program 7\n",
      "Episodes: 611\n",
      "Index(['Content'], dtype='object')\n",
      "\n",
      "0    嗨, 大家好\\n歡迎收看「聽聽看」\\n你這個禮拜過得好不好呢\\n有沒有什麼新鮮事\\n要和朋友...\n",
      "1    你今天是不是跟我一樣\\n早就迫不及待的\\n想要收看我們「聽聽看」了呢\\n怎麼樣\\n上個禮拜的...\n",
      "Name: Content, dtype: object\n",
      "\n",
      "Program 8\n",
      "Episodes: 210\n",
      "Index(['Content'], dtype='object')\n",
      "\n",
      "0    每天帶你拜訪一個家庭\\n邀請一位貴賓和他們共進晚餐\\n談談人生大小事\\n但如果登門拜訪的\\n...\n",
      "1    如果用一句話\\n來形容吃飯這件事情\\n那句話應該就是體驗人生\\n今天的「誰來晚餐」\\n發生在...\n",
      "Name: Content, dtype: object\n",
      "\n"
     ]
    }
   ],
   "source": [
    "import pandas as pd\n",
    "\n",
    "NUM_PROGRAM = 8\n",
    "programs = []\n",
    "for i in range(1, NUM_PROGRAM+1):\n",
    "    program = pd.read_csv('Program0%d.csv' % (i))\n",
    "    \n",
    "    print('Program %d' % (i))\n",
    "    print('Episodes: %d' % (len(program)))\n",
    "    print(program.columns)\n",
    "    print()\n",
    "    \n",
    "    print(program.loc[:1]['Content'])\n",
    "    print()\n",
    "    \n",
    "    programs.append(program)"
   ]
  },
  {
   "cell_type": "code",
   "execution_count": 3,
   "metadata": {},
   "outputs": [
    {
     "name": "stdout",
     "output_type": "stream",
     "text": [
      "Question\n",
      "Episodes: 500\n",
      "Index(['Question', 'Option0', 'Option1', 'Option2', 'Option3', 'Option4',\n",
      "       'Option5'],\n",
      "      dtype='object')\n",
      "\n",
      "0    媽給你送錢包來啦 來 你看一下是不是這個\\n對 就是這個 你在哪裡找到它的\\n\n",
      "1             古人說三日不讀書 面目可憎 我覺得我最近可能臉色太難看了\\n\n",
      "2                         你說我們做父母的最擔心的就是這個\\n\n",
      "Name: Question, dtype: object\n",
      "\n",
      "0        你看 這是我新買的錢包\n",
      "1    所以想回復我昔日面貌姣好的樣子\n",
      "2      我剛剛聽你媽說你要讀什麼科\n",
      "Name: Option0, dtype: object\n",
      "\n",
      "0     我的錢包不見了啦\n",
      "1    是不是要定期來舉辦\n",
      "2    其他老師又集體叛變\n",
      "Name: Option1, dtype: object\n",
      "\n",
      "0    以後上網咖的錢包在我身上\n",
      "1         各辦理一次才對\n",
      "2        聽起來好好玩天啊\n",
      "Name: Option2, dtype: object\n",
      "\n",
      "0                          什麼有錢包場\n",
      "1                     能夠督促所有的用人機關\n",
      "2    只是小孩自己的興趣不能得到發展 他們的心裡可能也會很悶喔\n",
      "Name: Option3, dtype: object\n",
      "\n",
      "0    早上你爸爸在車上找到的 一定是前天你放學的時候掉在車上了\n",
      "1                   在上次的節目討論中也有提到\n",
      "2                      走到這裡就沒有路了耶\n",
      "Name: Option4, dtype: object\n",
      "\n",
      "0         我為什麼要給你們錢包\n",
      "1           超過九十分貝以上\n",
      "2    每一個科目像是國語數學都很優秀\n",
      "Name: Option5, dtype: object\n",
      "\n"
     ]
    }
   ],
   "source": [
    "questions = pd.read_csv('Question.csv')\n",
    "\n",
    "print('Question')\n",
    "print('Episodes: %d' % (len(questions)))\n",
    "print(questions.columns)\n",
    "print()\n",
    "\n",
    "print(questions.loc[:2]['Question'])\n",
    "print()\n",
    "\n",
    "for i in range(6):\n",
    "    print(questions.loc[:2]['Option%d' % (i)])\n",
    "    print()"
   ]
  },
  {
   "cell_type": "markdown",
   "metadata": {},
   "source": [
    "We get raw content of programs' lines, but there aren't any feature we can learn from. To predict from text, we have to go through several preprocessing steps first."
   ]
  },
  {
   "cell_type": "markdown",
   "metadata": {},
   "source": [
    "### Preprocessing: Cut Words"
   ]
  },
  {
   "cell_type": "markdown",
   "metadata": {},
   "source": [
    "Since chinese characters are continuous one by one, we have to **cut them into meaningful words** first. We use [jieba](https://github.com/fxsjy/jieba) with **traditional chinese dictionary** to cut our text. You can install **jieba** via pip.\n",
    "```\n",
    "    pip install jieba\n",
    "```"
   ]
  },
  {
   "cell_type": "code",
   "execution_count": 4,
   "metadata": {
    "collapsed": true
   },
   "outputs": [],
   "source": [
    "import jieba\n",
    "\n",
    "jieba.set_dictionary('big5_dict.txt')"
   ]
  },
  {
   "cell_type": "code",
   "execution_count": 5,
   "metadata": {},
   "outputs": [
    {
     "name": "stderr",
     "output_type": "stream",
     "text": [
      "Building prefix dict from /home/tim/ray/Workspace/Course_DeepLearning/Comp1/Release/big5_dict.txt ...\n",
      "Loading model from cache /tmp/jieba.ubfd2136d7a9b93dc278d35ab3e6630e5.cache\n",
      "Loading model cost 0.544 seconds.\n",
      "Prefix dict has been built succesfully.\n"
     ]
    },
    {
     "name": "stdout",
     "output_type": "stream",
     "text": [
      "['我', '討厭', '吃', '蘋果']\n"
     ]
    }
   ],
   "source": [
    "example_str = '我討厭吃蘋果'\n",
    "cut_example_str = jieba.lcut(example_str)\n",
    "print(cut_example_str)"
   ]
  },
  {
   "cell_type": "markdown",
   "metadata": {
    "collapsed": true
   },
   "source": [
    "We cut not only ```Program.csv``` but also ```Question.csv```, and save as **list**."
   ]
  },
  {
   "cell_type": "code",
   "execution_count": 6,
   "metadata": {
    "collapsed": true
   },
   "outputs": [],
   "source": [
    "def jieba_lines(lines):\n",
    "    cut_lines = []\n",
    "    \n",
    "    for line in lines:\n",
    "        cut_line = jieba.lcut(line)\n",
    "        cut_lines.append(cut_line)\n",
    "    \n",
    "    return cut_lines"
   ]
  },
  {
   "cell_type": "code",
   "execution_count": 7,
   "metadata": {},
   "outputs": [],
   "source": [
    "cut_programs = []\n",
    "\n",
    "for program in programs:\n",
    "    n = len(program)\n",
    "    cut_program = []\n",
    "    \n",
    "    for i in range(n):\n",
    "        lines = program.loc[i]['Content'].split('\\n')\n",
    "        cut_program.append(jieba_lines(lines))\n",
    "    \n",
    "    cut_programs.append(cut_program)"
   ]
  },
  {
   "cell_type": "code",
   "execution_count": 8,
   "metadata": {},
   "outputs": [
    {
     "name": "stdout",
     "output_type": "stream",
     "text": [
      "8\n",
      "1299\n",
      "635\n",
      "[['還好', '天氣', '不錯'], ['昨天', '晚上', '的', '流星雨'], ['我', '看到', '很多', '流星']]\n"
     ]
    }
   ],
   "source": [
    "print(len(cut_programs))\n",
    "print(len(cut_programs[0]))\n",
    "print(len(cut_programs[0][0]))\n",
    "print(cut_programs[0][0][:3])"
   ]
  },
  {
   "cell_type": "code",
   "execution_count": 9,
   "metadata": {},
   "outputs": [],
   "source": [
    "cut_questions = []\n",
    "n = len(questions)\n",
    "\n",
    "for i in range(n):\n",
    "    cut_question = []\n",
    "    lines = questions.loc[i]['Question'].split('\\n')\n",
    "    cut_question.append(jieba_lines(lines))\n",
    "    \n",
    "    for j in range(6):\n",
    "        line = questions.loc[j]['Option%d' % (j)]\n",
    "        cut_question.append(jieba.lcut(line))\n",
    "    \n",
    "    cut_questions.append(cut_question)"
   ]
  },
  {
   "cell_type": "code",
   "execution_count": 10,
   "metadata": {},
   "outputs": [
    {
     "name": "stdout",
     "output_type": "stream",
     "text": [
      "500\n",
      "7\n",
      "[['媽給', '你', '送', '錢包', '來', '啦', ' ', '來', ' ', '你', '看', '一下', '是', '不', '是', '這個'], ['對', ' ', '就是', '這個', ' ', '你', '在', '哪裡', '找到', '它', '的'], []]\n",
      "['你', '看', ' ', '這是', '我', '新', '買', '的', '錢包']\n",
      "['是', '不', '是', '要', '定期', '來', '舉辦']\n",
      "['聽起來', '好好玩', '天', '啊']\n",
      "['那', '我', '去', '探索', '一下']\n",
      "['什麼', '你', '說', '我', '是', '鬼']\n",
      "['沒有', '人', '是', '十全十美', '的']\n"
     ]
    }
   ],
   "source": [
    "print(len(cut_questions))\n",
    "print(len(cut_questions[0]))\n",
    "print(cut_questions[0][0])\n",
    "\n",
    "for i in range(1, 7):\n",
    "    print(cut_questions[0][i])"
   ]
  },
  {
   "cell_type": "code",
   "execution_count": 11,
   "metadata": {},
   "outputs": [],
   "source": [
    "import numpy as np\n",
    "\n",
    "np.save('cut_Programs.npy', cut_programs)\n",
    "np.save('cut_Questions.npy', cut_questions)"
   ]
  },
  {
   "cell_type": "markdown",
   "metadata": {},
   "source": [
    "After saving, we can load them directly next time."
   ]
  },
  {
   "cell_type": "code",
   "execution_count": 12,
   "metadata": {
    "collapsed": true
   },
   "outputs": [],
   "source": [
    "cut_programs = np.load('cut_Programs.npy')\n",
    "cut_Question = np.load('cut_Questions.npy')"
   ]
  },
  {
   "cell_type": "markdown",
   "metadata": {},
   "source": [
    "### Preprocessing: Word Dictionary & Out-of-Vocabulary"
   ]
  },
  {
   "cell_type": "markdown",
   "metadata": {},
   "source": [
    "There are many words after cutting, but **not all of them is useful**. The word **too common or too rare** can not give us information but may noise. We count the the number of occurrence for each word and remove useless one."
   ]
  },
  {
   "cell_type": "code",
   "execution_count": 13,
   "metadata": {
    "collapsed": true
   },
   "outputs": [],
   "source": [
    "word_dict = dict()"
   ]
  },
  {
   "cell_type": "code",
   "execution_count": 14,
   "metadata": {
    "collapsed": true
   },
   "outputs": [],
   "source": [
    "def add_word_dict(w):\n",
    "    if not w in word_dict:\n",
    "        word_dict[w] = 1\n",
    "    else:\n",
    "        word_dict[w] += 1"
   ]
  },
  {
   "cell_type": "code",
   "execution_count": 15,
   "metadata": {},
   "outputs": [],
   "source": [
    "for program in cut_programs:\n",
    "    for lines in program:\n",
    "        for line in lines:\n",
    "            for w in line:\n",
    "                add_word_dict(w)"
   ]
  },
  {
   "cell_type": "code",
   "execution_count": 16,
   "metadata": {},
   "outputs": [],
   "source": [
    "for question in cut_questions:\n",
    "    lines = question[0]\n",
    "    for line in lines:\n",
    "        for w in line:\n",
    "            add_word_dict(w)\n",
    "    \n",
    "    for i in range(1, 7):\n",
    "        line = question[i]\n",
    "        for w in line:\n",
    "            add_word_dict(w)"
   ]
  },
  {
   "cell_type": "code",
   "execution_count": 17,
   "metadata": {
    "collapsed": true
   },
   "outputs": [],
   "source": [
    "import operator\n",
    "\n",
    "word_dict = sorted(word_dict.items(), key=operator.itemgetter(1), reverse=True)"
   ]
  },
  {
   "cell_type": "code",
   "execution_count": 18,
   "metadata": {},
   "outputs": [
    {
     "name": "stdout",
     "output_type": "stream",
     "text": [
      "[('他', 81495), ('也', 77074), ('就是', 75444), ('說', 74677), ('來', 69134), ('會', 67805), ('那', 67274), ('喔', 61443), ('可以', 60159), ('跟', 59954)]\n"
     ]
    }
   ],
   "source": [
    "VOC_SIZE = 15000\n",
    "VOC_START = 20\n",
    "\n",
    "voc_dict = word_dict[VOC_START:VOC_START+VOC_SIZE]\n",
    "print(voc_dict[:10])\n",
    "np.save('voc_dict.npy', voc_dict)"
   ]
  },
  {
   "cell_type": "code",
   "execution_count": 19,
   "metadata": {
    "collapsed": true
   },
   "outputs": [],
   "source": [
    "voc_dict = np.load('voc_dict.npy')"
   ]
  },
  {
   "cell_type": "markdown",
   "metadata": {},
   "source": [
    "Now, ```voc_dict``` becomes better word dictionary, then we should replace those removed words aka out-of-vocabulary words into an **unknown token** in the following use."
   ]
  },
  {
   "cell_type": "markdown",
   "metadata": {},
   "source": [
    "### Preprocessing: Generating Training Data"
   ]
  },
  {
   "cell_type": "markdown",
   "metadata": {},
   "source": [
    "Though the format of question is to select one from six, our traing data only have continuous lines. Naively, i want to change the whole problem **into a binary classification** which means given two lines, my model want to **judge these two are context or not**."
   ]
  },
  {
   "cell_type": "code",
   "execution_count": 20,
   "metadata": {
    "collapsed": true
   },
   "outputs": [],
   "source": [
    "import random\n",
    "\n",
    "NUM_TRAIN = 10000\n",
    "TRAIN_VALID_RATE = 0.7"
   ]
  },
  {
   "cell_type": "code",
   "execution_count": 21,
   "metadata": {
    "collapsed": true
   },
   "outputs": [],
   "source": [
    "def generate_training_data():\n",
    "    Xs, Ys = [], []\n",
    "    \n",
    "    for i in range(NUM_TRAIN):\n",
    "        pos_or_neg = random.randint(0, 1)\n",
    "        \n",
    "        if pos_or_neg==1:\n",
    "            program_id = random.randint(0, NUM_PROGRAM-1)\n",
    "            episode_id = random.randint(0, len(cut_programs[program_id])-1)\n",
    "            line_id = random.randint(0, len(cut_programs[program_id][episode_id])-2)\n",
    "            \n",
    "            Xs.append([cut_programs[program_id][episode_id][line_id], \n",
    "                       cut_programs[program_id][episode_id][line_id+1]])\n",
    "            Ys.append(1)\n",
    "            \n",
    "        else:\n",
    "            first_program_id = random.randint(0, NUM_PROGRAM-1)\n",
    "            first_episode_id = random.randint(0, len(cut_programs[first_program_id])-1)\n",
    "            first_line_id = random.randint(0, len(cut_programs[first_program_id][first_episode_id])-1)\n",
    "            \n",
    "            second_program_id = random.randint(0, NUM_PROGRAM-1)\n",
    "            second_episode_id = random.randint(0, len(cut_programs[second_program_id])-1)\n",
    "            second_line_id = random.randint(0, len(cut_programs[second_program_id][second_episode_id])-1)\n",
    "            \n",
    "            Xs.append([cut_programs[first_program_id][first_episode_id][first_line_id], \n",
    "                       cut_programs[second_program_id][second_episode_id][second_line_id]])\n",
    "            Ys.append(0)\n",
    "    \n",
    "    return Xs, Ys"
   ]
  },
  {
   "cell_type": "code",
   "execution_count": 22,
   "metadata": {},
   "outputs": [],
   "source": [
    "Xs, Ys = generate_training_data()\n",
    "\n",
    "x_train, y_train = Xs[:int(NUM_TRAIN*TRAIN_VALID_RATE)], Ys[:int(NUM_TRAIN*TRAIN_VALID_RATE)]\n",
    "x_valid, y_valid = Xs[int(NUM_TRAIN*TRAIN_VALID_RATE):], Ys[int(NUM_TRAIN*TRAIN_VALID_RATE):]"
   ]
  },
  {
   "cell_type": "markdown",
   "metadata": {},
   "source": [
    "Since machine learning models only accept numerical features, we must convert categorical features, such as tokens into a numerical form. In the next section, we introduce several commonly used models, including **BoW**, **TF-IDF**, and **Feature Hashing** that allows us to represent text as numerical feature vectors."
   ]
  },
  {
   "cell_type": "code",
   "execution_count": 23,
   "metadata": {},
   "outputs": [
    {
     "name": "stdout",
     "output_type": "stream",
     "text": [
      "['還好 天氣 不錯 ', '昨天 晚上 ', '看到 很多 流星 ', '這次 收穫 真 豐富 ', '當然 豐富 啦 ', '說 嘛 ', '精心 製作 ', '被 一個 人 吃掉 ', '真的 嗎 ', '不要 忘記 做 秘密 檔案 ']\n"
     ]
    }
   ],
   "source": [
    "example_doc = []\n",
    "\n",
    "for line in cut_programs[0][0]:\n",
    "    example_line = ''\n",
    "    for w in line:\n",
    "        if w in voc_dict:\n",
    "            example_line += w+' '\n",
    "        \n",
    "    example_doc.append(example_line)\n",
    "\n",
    "print(example_doc[:10])"
   ]
  },
  {
   "cell_type": "markdown",
   "metadata": {},
   "source": [
    "### Word2Vec: BoW (Bag-Of-Words)\n",
    "The idea behind bag-of-words model is to represent each document by occurrence of words, which can be summarized as the following steps:\n",
    "1. Build vocabulary dictionary by unique token from the entire set of documents;\n",
    "2. Represent each document by a vector, where each position corresponds to the occurrence of a vocabulary in dictionary.\n",
    "\n",
    "Each vocabulary in BoW can be a single word (1-gram) or a sequence of n continuous words (n-gram). It has been shown empirically that 3-gram or 4-gram BoW models yield good performance in anti-spam email filtering application.\n",
    "<br>\n",
    "<br>\n",
    "Here, we use Scikit-learn's implementation [CountVectorizer](http://scikit-learn.org/stable/modules/generated/sklearn.feature_extraction.text.CountVectorizer.html) to construct the BoW model:"
   ]
  },
  {
   "cell_type": "code",
   "execution_count": 24,
   "metadata": {},
   "outputs": [
    {
     "name": "stdout",
     "output_type": "stream",
     "text": [
      "[vocabulary]\n",
      "\n",
      "一半 7\n",
      "經常 377\n",
      "兩種 89\n",
      "跑進去 445\n",
      "地盤 156\n",
      "趕走 443\n",
      "常常 206\n",
      "脫皮 395\n",
      "更新 271\n",
      "現在 323\n"
     ]
    }
   ],
   "source": [
    "import scipy as sp\n",
    "from sklearn.feature_extraction.text import CountVectorizer\n",
    "\n",
    "# ngram_range=(min, max), default: 1-gram => (1, 1)\n",
    "count = CountVectorizer(ngram_range=(1, 1))\n",
    "\n",
    "count.fit(example_doc)\n",
    "BoW = count.vocabulary_\n",
    "print('[vocabulary]\\n')\n",
    "for key in list(BoW.keys())[:10]:\n",
    "    print('%s %d' % (key, BoW[key]))"
   ]
  },
  {
   "cell_type": "markdown",
   "metadata": {},
   "source": [
    "The parameter ```ngram_range=(min-length, max-length)``` in CountVectorizer specifies the vocabulary to be ```{min-length}```-gram to ```{max-length}```-gram. For example ```ngram_range=(1, 2)``` will use both 1-gram and 2-gram as vocabularies. After constructing BoW model by calling ```fit()```, you can access BoW vocabularies in its attribute ```vocubalary_```, which is stored as Python dictionary that maps vocabulary to an integer index.\n",
    "<br>\n",
    "<br>\n",
    "Let's transform the example documents into feature vectors:"
   ]
  },
  {
   "cell_type": "code",
   "execution_count": 25,
   "metadata": {},
   "outputs": [
    {
     "name": "stdout",
     "output_type": "stream",
     "text": [
      "(did, vid)\ttf\n",
      "  (0, 46)\t1\n",
      "  (0, 168)\t1\n",
      "  (0, 469)\t1\n",
      "  (1, 268)\t1\n",
      "  (1, 270)\t1\n",
      "  (2, 217)\t1\n",
      "  (2, 310)\t1\n",
      "  (2, 352)\t1\n",
      "  (3, 259)\t1\n",
      "  (3, 435)\t1\n",
      "  (3, 456)\t1\n",
      "  (4, 340)\t1\n",
      "  (4, 435)\t1\n",
      "  (6, 370)\t1\n",
      "  (6, 414)\t1\n",
      "  (7, 6)\t1\n",
      "  (7, 128)\t1\n",
      "  (8, 354)\t1\n",
      "  (9, 44)\t1\n",
      "  (9, 225)\t1\n",
      "  (9, 293)\t1\n",
      "  (9, 361)\t1\n",
      "\n",
      "Is document-term matrix a scipy.sparse matrix? True\n"
     ]
    }
   ],
   "source": [
    "# get matrix (doc_id, vocabulary_id) --> tf\n",
    "doc_bag = count.transform(example_doc)\n",
    "print('(did, vid)\\ttf')\n",
    "print(doc_bag[:10])\n",
    "\n",
    "print('\\nIs document-term matrix a scipy.sparse matrix? {}'.format(sp.sparse.issparse(doc_bag)))"
   ]
  },
  {
   "cell_type": "markdown",
   "metadata": {},
   "source": [
    "Since each document contains only a small subset of vocabularies, ```CountVectorizer.transform()``` stores feature vectors as scipy.sparse matrix, where entry index is ```(document-index, vocabulary-index)``` pair, and the value is the **term frequency**---the number of times a vocabulary (term) occurs in a document.\n",
    "<br>\n",
    "<br>\n",
    "Unfortunately, many Scikit-learn classifiers do not support input as sparse matrix now. We can convert ```doc_bag``` into a Numpy dense matrix:"
   ]
  },
  {
   "cell_type": "code",
   "execution_count": 26,
   "metadata": {},
   "outputs": [
    {
     "name": "stdout",
     "output_type": "stream",
     "text": [
      "[[0 0 0 ..., 0 0 0]\n",
      " [0 0 0 ..., 0 0 0]\n",
      " [0 0 0 ..., 0 0 0]\n",
      " ..., \n",
      " [0 0 0 ..., 0 0 0]\n",
      " [0 0 0 ..., 0 0 0]\n",
      " [0 0 0 ..., 0 0 0]]\n",
      "\n",
      "After calling .toarray(), is it a scipy.sparse matrix? False\n"
     ]
    }
   ],
   "source": [
    "doc_bag = doc_bag.toarray()\n",
    "print(doc_bag[:10])\n",
    "\n",
    "print('\\nAfter calling .toarray(), is it a scipy.sparse matrix? {}'.format(sp.sparse.issparse(doc_bag)))"
   ]
  },
  {
   "cell_type": "code",
   "execution_count": 27,
   "metadata": {},
   "outputs": [
    {
     "name": "stdout",
     "output_type": "stream",
     "text": [
      "[most frequent vocabularies]\n",
      "蟋蟀: 98\n",
      "可以: 21\n",
      "就是: 21\n",
      "聲音: 20\n",
      "這樣: 19\n",
      "你們: 17\n",
      "真的: 16\n",
      "還有: 15\n",
      "比較: 15\n",
      "豆油伯: 15\n"
     ]
    }
   ],
   "source": [
    "doc_bag = count.fit_transform(example_doc).toarray()\n",
    "\n",
    "print(\"[most frequent vocabularies]\")\n",
    "bag_cnts = np.sum(doc_bag, axis=0)\n",
    "top = 10\n",
    "# [::-1] reverses a list since sort is in ascending order\n",
    "for tok, v in zip(count.inverse_transform(np.ones(bag_cnts.shape[0]))[0][bag_cnts.argsort()[::-1][:top]], \n",
    "                  np.sort(bag_cnts)[::-1][:top]):\n",
    "    print('%s: %d' % (tok, v))"
   ]
  },
  {
   "cell_type": "markdown",
   "metadata": {},
   "source": [
    "To find out most frequent words among documents, we first sum up vocabulary counts in documents, where ```axis=0``` is the document index. Then, we sort the summed vocabulary count array in ascending order and get the sorted index by ```argsort()```. Next, we revert the sorted list by ```[::-1]```, and feed into ```inverse_transform()``` to get corresponding vocabularies. Finally, we show the 10 most frequent vocabularies with their occurrence counts.\n",
    "<br>\n",
    "<br>\n",
    "Next, we introduce the **TF-IDF** model that **downweights frequently occurring words** among the input documents."
   ]
  },
  {
   "cell_type": "markdown",
   "metadata": {},
   "source": [
    "### Word2Vec: TF-IDF (Term-Frequency & Inverse-Document-Frequency)"
   ]
  },
  {
   "cell_type": "markdown",
   "metadata": {},
   "source": [
    "F-IDF model calculates not only the term-frequency (TF) as BoW model does, but also the **document-frequency**\n",
    "(DF) of a term, which refers to the number of documents that contain this term. The TF-IDF score for a term is defined as\n",
    "<img src='tf-idf.png' width='30%' />\n",
    "where the ```log()``` term is called the **inverse-document-frequency** (IDF) and ```Ndoc``` is the total number of documents. The idea behind TF-IDF is to downweight the TF of a word if it appears in many documents. For example, if a word appears in every document, the second term become ```log(1)+1=1``` , which will be smaller than any other word appearing in only a part of documents.\n",
    "<br>\n",
    "<br>\n",
    "NOTE: we add ```1``` to both the numerator and denominator inside the ```log()``` in the above definition so to avoid the numeric issue of dividing by ```0```.\n",
    "<br>\n",
    "<br>\n",
    "Let's create the TF-IDF feature representation:"
   ]
  },
  {
   "cell_type": "code",
   "execution_count": 28,
   "metadata": {},
   "outputs": [
    {
     "name": "stdout",
     "output_type": "stream",
     "text": [
      "[vocabularies with smallest idf scores]\n",
      "蟋蟀: 2.87\n",
      "可以: 4.36\n",
      "就是: 4.41\n",
      "聲音: 4.46\n",
      "這樣: 4.46\n",
      "你們: 4.56\n",
      "真的: 4.62\n",
      "還有: 4.68\n",
      "豆油伯: 4.68\n",
      "比較: 4.68\n",
      "\n",
      "[vocabularies with highest tf-idf scores]\n",
      "蟋蟀: 42.016104\n",
      "這樣: 11.916386\n",
      "真的: 11.405347\n",
      "就是: 11.256123\n",
      "可以: 10.898674\n",
      "聲音: 10.442999\n",
      "豆油伯: 10.325579\n",
      "還有: 9.835135\n",
      "你們: 9.293539\n",
      "叫做: 8.395597\n"
     ]
    }
   ],
   "source": [
    "from sklearn.feature_extraction.text import TfidfVectorizer\n",
    "\n",
    "tfidf = TfidfVectorizer(ngram_range=(1,1))\n",
    "tfidf.fit(example_doc)\n",
    "\n",
    "top = 10\n",
    "# get idf score of vocabularies\n",
    "idf = tfidf.idf_\n",
    "print('[vocabularies with smallest idf scores]')\n",
    "sorted_idx = idf.argsort()\n",
    "for i in range(top):\n",
    "    print('%s: %.2f' % (tfidf.get_feature_names()[sorted_idx[i]], idf[sorted_idx[i]]))\n",
    "\n",
    "doc_tfidf = tfidf.transform(example_doc).toarray()\n",
    "tfidf_sum = np.sum(doc_tfidf, axis=0)\n",
    "print(\"\\n[vocabularies with highest tf-idf scores]\")\n",
    "for tok, v in zip(tfidf.inverse_transform(np.ones(tfidf_sum.shape[0]))[0][tfidf_sum.argsort()[::-1]][:top], \n",
    "                  np.sort(tfidf_sum)[::-1][:top]):\n",
    "    print('%s: %f' % (tok, v))"
   ]
  },
  {
   "cell_type": "markdown",
   "metadata": {},
   "source": [
    "Now we have a problem, the number of features that we have created in ```doc_tfidf``` is huge:"
   ]
  },
  {
   "cell_type": "code",
   "execution_count": 29,
   "metadata": {},
   "outputs": [
    {
     "name": "stdout",
     "output_type": "stream",
     "text": [
      "(635, 516)\n"
     ]
    }
   ],
   "source": [
    "print(doc_tfidf.shape)"
   ]
  },
  {
   "cell_type": "markdown",
   "metadata": {},
   "source": [
    "There are more than 500 features for merely 650 documents. In practice, this may lead to too much memory consumption (even with sparse matrix representation) if we have a large number of vocabularies."
   ]
  },
  {
   "cell_type": "markdown",
   "metadata": {},
   "source": [
    "### Word2Vec: Feature Hashing"
   ]
  },
  {
   "cell_type": "markdown",
   "metadata": {},
   "source": [
    "**Feature hashing** reduces the dimension vocabulary space by hashing each vocabulary into a hash table with a fixed number of buckets. As compared to BoW, feature hashing has the following pros and cons:\n",
    "+ (+) no need to store vocabulary dictionary in memory anymore\n",
    "+ (-) no way to map token index back to token via ```inverse_transform()```\n",
    "+ (-) no IDF weighting"
   ]
  },
  {
   "cell_type": "code",
   "execution_count": 30,
   "metadata": {},
   "outputs": [
    {
     "name": "stdout",
     "output_type": "stream",
     "text": [
      "(635, 64)\n"
     ]
    }
   ],
   "source": [
    "from sklearn.feature_extraction.text import HashingVectorizer\n",
    "\n",
    "hashvec = HashingVectorizer(n_features=2**6)\n",
    "\n",
    "doc_hash = hashvec.transform(example_doc)\n",
    "print(doc_hash.shape)"
   ]
  },
  {
   "cell_type": "markdown",
   "metadata": {},
   "source": [
    "Ok, now we can transform raw text to feature vectors."
   ]
  },
  {
   "cell_type": "markdown",
   "metadata": {},
   "source": [
    "### More Creative Features"
   ]
  },
  {
   "cell_type": "markdown",
   "metadata": {},
   "source": [
    "Now, you can go create your basic set of features for the text in competition. But **don't stop from here**. If you do aware the power of feature engineering, use your creativity to extract more features from the raw text. The more meaningful features you create, the more likely you will get a better score and win."
   ]
  },
  {
   "cell_type": "markdown",
   "metadata": {},
   "source": [
    "Here are few examples for inspiration:\n",
    "+ [Word2Vec](https://radimrehurek.com/gensim/models/word2vec.html)\n",
    "+ [Doc2Vec](https://radimrehurek.com/gensim/models/doc2vec.html)\n",
    "+ [TextRank](https://web.eecs.umich.edu/~mihalcea/papers/mihalcea.emnlp04.pdf)\n",
    "+ [Latent Dirichlet Allocation](https://radimrehurek.com/gensim/models/ldamodel.html)\n",
    "+ Similar word dictionary\n",
    "+ [Part-of-speech Tagging](https://en.wikipedia.org/wiki/Part-of-speech_tagging)\n",
    "\n",
    "There are lots of other directions you can explore, such as NLP features, length of lines, etc."
   ]
  },
  {
   "cell_type": "markdown",
   "metadata": {},
   "source": [
    "### Hint 2: Use Out-of-Core Learning If You Don't Have Enough Memory"
   ]
  },
  {
   "cell_type": "markdown",
   "metadata": {},
   "source": [
    "The size of dataset in the competition is much larger than the lab. The dataset, after being represented as feature vectors, may become much larger, and you are unlikely to store all of them in memory. Next, we introduce another training technique called the **Out of Core Learning** to help you train a model using **data streaming**."
   ]
  },
  {
   "cell_type": "markdown",
   "metadata": {},
   "source": [
    "The idea of Out of Core Learning is similar to the **stochastic gradient descent**, which updates the model when seeing a minibatch, except that each minibatch is loaded from disk via a data stream. Since we only see a part of the dataset at a time, we can only use the ```HashingVectorizer``` to transform text into feature vectors because the ```HashingVectorizer``` does not require knowing the vocabulary space in advance.\n",
    "<br>\n",
    "<br>\n",
    "Let's create a stream to read a chunk of CSV file at a time using the Pandas I/O API:"
   ]
  },
  {
   "cell_type": "code",
   "execution_count": 31,
   "metadata": {},
   "outputs": [
    {
     "name": "stdout",
     "output_type": "stream",
     "text": [
      "                                              review  sentiment\n",
      "0  This movie is well done on so many levels that...          1\n",
      "1  Wilson (Erica Gavin) is nabbed by the cops and...          1\n",
      "2  Canto 1: How Kriemhild Mourned Over Siegfried ...          1\n",
      "3  I bought Bloodsuckers on ebay a while ago. I w...          0\n",
      "4  I took part in a little mini production of thi...          1\n",
      "5  This is certainly one of my all time fav episo...          1\n",
      "6  This scary and rather gory adaptation of Steph...          1\n",
      "7  Mike Hawthorne(Gordon Currie)is witness to the...          0\n",
      "8  It looks to me as if the creators of \"The Clas...          0\n",
      "9  This comic book style film is funny, has nicel...          1\n"
     ]
    }
   ],
   "source": [
    "import pandas as pd\n",
    "\n",
    "def get_stream(path, size):\n",
    "    for chunk in pd.read_csv(path, chunksize=size):\n",
    "        yield chunk\n",
    "\n",
    "print(next(get_stream(path='imdb.csv', size=10)))"
   ]
  },
  {
   "cell_type": "markdown",
   "metadata": {},
   "source": [
    "Good. Our stream works correctly."
   ]
  },
  {
   "cell_type": "markdown",
   "metadata": {},
   "source": [
    "For out-of core learning, we have to use models that can train and update the model's weight iteratively. Here, we use the SGDClassifier to train a LogisticRegressor using the stochastic gradient descent. We can partial update SGDClassifier by calling the ```partial_fit()``` method. Our workflow now becomes:"
   ]
  },
  {
   "cell_type": "markdown",
   "metadata": {},
   "source": [
    "1. Stream documents directly from disk to get a mini-batch (chunk) of documents;\n",
    "2. Preprocess: clean words in the mini-batch of documents;\n",
    "3. Word2vec: use HashingVectorizer to extract features from text;\n",
    "4. Update ```SGDClassifier``` and go back to step 1."
   ]
  },
  {
   "cell_type": "code",
   "execution_count": 32,
   "metadata": {},
   "outputs": [
    {
     "name": "stdout",
     "output_type": "stream",
     "text": [
      "hello this is a sanity check  :( ;P\n"
     ]
    }
   ],
   "source": [
    "import re\n",
    "from bs4 import BeautifulSoup\n",
    "\n",
    "def preprocessor(text):\n",
    "    # remove HTML tags\n",
    "    text = BeautifulSoup(text, 'html.parser').get_text()\n",
    "    \n",
    "    # regex for matching emoticons, keep emoticons, ex: :), :-P, :-D\n",
    "    r = '(?::|;|=|X)(?:-)?(?:\\)|\\(|D|P)'\n",
    "    emoticons = re.findall(r, text)\n",
    "    text = re.sub(r, '', text)\n",
    "    \n",
    "    # convert to lowercase and append all emoticons behind (with space in between)\n",
    "    # replace('-','') removes nose of emoticons\n",
    "    text = re.sub('[\\W]+', ' ', text.lower()) + ' ' + ' '.join(emoticons).replace('-','')\n",
    "    return text\n",
    "\n",
    "print(preprocessor('<a href=\"example.com\">Hello, This :-( is a sanity check ;P!</a>'))"
   ]
  },
  {
   "cell_type": "code",
   "execution_count": 33,
   "metadata": {},
   "outputs": [
    {
     "name": "stdout",
     "output_type": "stream",
     "text": [
      "[nltk_data] Downloading package stopwords to /home/tim/nltk_data...\n",
      "[nltk_data]   Package stopwords is already up-to-date!\n",
      "['runner', 'like', 'run', 'thu', 'run']\n"
     ]
    }
   ],
   "source": [
    "import nltk\n",
    "from nltk.corpus import stopwords\n",
    "from nltk.stem.porter import PorterStemmer\n",
    "\n",
    "nltk.download('stopwords')\n",
    "stop = stopwords.words('english')\n",
    "\n",
    "def tokenizer_stem_nostop(text):\n",
    "    porter = PorterStemmer()\n",
    "    return [porter.stem(w) for w in re.split('\\s+', text.strip()) \\\n",
    "            if w not in stop and re.match('[a-zA-Z]+', w)]\n",
    "\n",
    "print(tokenizer_stem_nostop('runners like running and thus they run'))"
   ]
  },
  {
   "cell_type": "code",
   "execution_count": 34,
   "metadata": {},
   "outputs": [
    {
     "name": "stdout",
     "output_type": "stream",
     "text": [
      "[2000/25000] 0.883333\n",
      "[4000/25000] 0.910172\n",
      "[6000/25000] 0.909240\n",
      "[8000/25000] 0.911040\n",
      "[10000/25000] 0.936461\n",
      "[12000/25000] 0.908915\n",
      "[14000/25000] 0.936745\n",
      "[16000/25000] 0.939940\n",
      "[18000/25000] 0.943612\n",
      "[20000/25000] 0.928762\n",
      "[22000/25000] 0.925087\n",
      "[24000/25000] 0.943273\n"
     ]
    }
   ],
   "source": [
    "from sklearn.feature_extraction.text import HashingVectorizer\n",
    "from sklearn.linear_model import SGDClassifier\n",
    "from sklearn.metrics import roc_auc_score\n",
    "\n",
    "hashvec = HashingVectorizer(n_features=2**20, \n",
    "                            preprocessor=preprocessor, tokenizer=tokenizer_stem_nostop)\n",
    "# loss='log' gives logistic regression\n",
    "clf = SGDClassifier(loss='log', n_iter=100)\n",
    "\n",
    "batch_size = 1000\n",
    "stream = get_stream(path='imdb.csv', size=batch_size)\n",
    "\n",
    "classes = np.array([0, 1])\n",
    "train_auc, val_auc = [], []\n",
    "\n",
    "# we use one batch for training and another for validation in each iteration\n",
    "iters = int((25000+batch_size-1)/(batch_size*2))\n",
    "\n",
    "for i in range(iters):\n",
    "    batch = next(stream)\n",
    "    X_train, y_train = batch['review'], batch['sentiment']\n",
    "    if X_train is None:\n",
    "        break\n",
    "        \n",
    "    X_train = hashvec.transform(X_train)\n",
    "    clf.partial_fit(X_train, y_train, classes=classes)\n",
    "    train_auc.append(roc_auc_score(y_train, clf.predict_proba(X_train)[:,1]))\n",
    "    \n",
    "    # validate\n",
    "    batch = next(stream)\n",
    "    X_val, y_val = batch['review'], batch['sentiment']\n",
    "    score = roc_auc_score(y_val, clf.predict_proba(hashvec.transform(X_val))[:,1])\n",
    "    val_auc.append(score)\n",
    "    print('[%d/%d] %f' % ((i+1)*(batch_size*2), 25000, score))"
   ]
  },
  {
   "cell_type": "markdown",
   "metadata": {},
   "source": [
    "After fitting SGDClassifier by an entire pass over training set, let's plot the learning curve:"
   ]
  },
  {
   "cell_type": "code",
   "execution_count": 35,
   "metadata": {},
   "outputs": [
    {
     "data": {
      "image/png": "[encoded data removed]",
      "text/plain": [
       "<matplotlib.figure.Figure at 0x7fe129fb9f60>"
      ]
     },
     "metadata": {},
     "output_type": "display_data"
    }
   ],
   "source": [
    "import matplotlib.pyplot as plt\n",
    "\n",
    "plt.plot(range(1, len(train_auc)+1), train_auc, color='blue', label='Train auc')\n",
    "plt.plot(range(1, len(train_auc)+1), val_auc, color='red', label='Val auc')\n",
    "plt.legend(loc=\"best\")\n",
    "plt.xlabel('#Batches')\n",
    "plt.ylabel('Auc')\n",
    "plt.tight_layout()\n",
    "plt.savefig('./fig-out-of-core.png', dpi=300)\n",
    "plt.show()"
   ]
  },
  {
   "cell_type": "markdown",
   "metadata": {},
   "source": [
    "The learning curve looks great! The validation accuracy improves as more examples are seen."
   ]
  },
  {
   "cell_type": "markdown",
   "metadata": {},
   "source": [
    "Since training ```SGDClassifier``` may take long, you can save your trained classifier to disk periodically:"
   ]
  },
  {
   "cell_type": "code",
   "execution_count": 36,
   "metadata": {},
   "outputs": [
    {
     "name": "stdout",
     "output_type": "stream",
     "text": [
      "test auc: 0.947\n"
     ]
    }
   ],
   "source": [
    "# import optimized pickle written in C for serializing and  de-serializing a Python object\n",
    "import _pickle as pkl\n",
    "\n",
    "# dump to disk\n",
    "pkl.dump(hashvec, open('hashvec.pkl', 'wb'))\n",
    "pkl.dump(clf, open('clf-sgd.pkl', 'wb'))\n",
    "\n",
    "# load from disk\n",
    "hashvec = pkl.load(open('hashvec.pkl', 'rb'))\n",
    "clf = pkl.load(open('clf-sgd.pkl', 'rb'))\n",
    "\n",
    "df_test = pd.read_csv('imdb.csv')\n",
    "print('test auc: %.3f' % roc_auc_score(df_test['sentiment'], \n",
    "                                       clf.predict_proba(hashvec.transform(df_test['review']))[:,1]))"
   ]
  },
  {
   "cell_type": "markdown",
   "metadata": {},
   "source": [
    "Now you have the all the supporting knowledge for the competition. Happy coding and good luck!"
   ]
  }
 ],
 "metadata": {
  "anaconda-cloud": {},
  "kernelspec": {
   "display_name": "Python 3",
   "language": "python",
   "name": "python3"
  },
  "language_info": {
   "codemirror_mode": {
    "name": "ipython",
    "version": 3
   },
   "file_extension": ".py",
   "mimetype": "text/x-python",
   "name": "python",
   "nbconvert_exporter": "python",
   "pygments_lexer": "ipython3",
   "version": "3.6.1"
  }
 },
 "nbformat": 4,
 "nbformat_minor": 1
}
